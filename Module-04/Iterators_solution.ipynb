{
 "cells": [
  {
   "cell_type": "markdown",
   "metadata": {
    "colab_type": "text",
    "id": "view-in-github"
   },
   "source": [
    "<a href=\"https://colab.research.google.com/github/FairozaAmira/AI_Programming_1_e/blob/master/Lesson10/Iterators_solution.ipynb\" target=\"_parent\"><img src=\"https://colab.research.google.com/assets/colab-badge.svg\" alt=\"Open In Colab\"/></a>"
   ]
  },
  {
   "cell_type": "markdown",
   "metadata": {
    "colab_type": "text",
    "id": "c-lPj1vBGFO2"
   },
   "source": [
    "# Solution for Iterators"
   ]
  },
  {
   "cell_type": "markdown",
   "metadata": {
    "colab_type": "text",
    "id": "zcIMKYCQGFO7"
   },
   "source": [
    "**Question 1**\n",
    "\n",
    "Write a for loop to display number 1 to 10, by using `range`."
   ]
  },
  {
   "cell_type": "code",
   "execution_count": 0,
   "metadata": {
    "colab": {},
    "colab_type": "code",
    "id": "9BpVoCXNGFO-",
    "outputId": "022aa40d-c700-4bf2-a494-44e7afdef48b"
   },
   "outputs": [
    {
     "name": "stdout",
     "output_type": "stream",
     "text": [
      "1\n",
      "2\n",
      "3\n",
      "4\n",
      "5\n",
      "6\n",
      "7\n",
      "8\n",
      "9\n",
      "10\n"
     ]
    }
   ],
   "source": [
    "for i in range (1,11):\n",
    "    print(i)"
   ]
  },
  {
   "cell_type": "markdown",
   "metadata": {
    "colab_type": "text",
    "id": "hpbpVYxiGFPG"
   },
   "source": [
    "**Question 2**\n",
    "\n",
    "Write a for loop to display each number in the list below.\n",
    "`[1, 2, 3, 4, 5]`"
   ]
  },
  {
   "cell_type": "code",
   "execution_count": 0,
   "metadata": {
    "colab": {},
    "colab_type": "code",
    "id": "8BBF65t2GFPH",
    "outputId": "eb38b3d3-2ee4-44f6-d582-138370d94cef"
   },
   "outputs": [
    {
     "name": "stdout",
     "output_type": "stream",
     "text": [
      "1\n",
      "2\n",
      "3\n",
      "4\n",
      "5\n"
     ]
    }
   ],
   "source": [
    "for number in [1, 2, 3, 4, 5]:\n",
    "    print (number)"
   ]
  },
  {
   "cell_type": "markdown",
   "metadata": {
    "colab_type": "text",
    "id": "X65Ex8jnGFPL"
   },
   "source": [
    "**Question 3**\n",
    "\n",
    "By using `iter` function, display each number of the list above."
   ]
  },
  {
   "cell_type": "code",
   "execution_count": 0,
   "metadata": {
    "colab": {},
    "colab_type": "code",
    "id": "84zxPI6mGFPO",
    "outputId": "a2da070f-9cdd-45ec-c16b-978c9a1bba68"
   },
   "outputs": [
    {
     "name": "stdout",
     "output_type": "stream",
     "text": [
      "1\n",
      "2\n",
      "3\n",
      "4\n",
      "5\n"
     ]
    }
   ],
   "source": [
    "I = iter([1,2,3,4,5])\n",
    "print(next(I))\n",
    "print(next(I))\n",
    "print(next(I))\n",
    "print(next(I))\n",
    "print(next(I))"
   ]
  },
  {
   "cell_type": "markdown",
   "metadata": {
    "colab_type": "text",
    "id": "_88BVtlGGFPT"
   },
   "source": [
    "**Question 4**\n",
    "\n",
    "Try out this command. <br/>\n",
    "`range(10)`\n",
    "and this <br/>\n",
    "`iter(range(10)`"
   ]
  },
  {
   "cell_type": "code",
   "execution_count": 0,
   "metadata": {
    "colab": {},
    "colab_type": "code",
    "id": "S67SrpE7GFPT",
    "outputId": "d590c77f-c56c-47cc-95fd-82cf8c165c03"
   },
   "outputs": [
    {
     "data": {
      "text/plain": [
       "range(0, 10)"
      ]
     },
     "execution_count": 4,
     "metadata": {
      "tags": []
     },
     "output_type": "execute_result"
    }
   ],
   "source": [
    "range(10)"
   ]
  },
  {
   "cell_type": "code",
   "execution_count": 0,
   "metadata": {
    "colab": {},
    "colab_type": "code",
    "id": "QMLbI9EnGFPW",
    "outputId": "1c46ae86-f0b6-4636-ad5f-7a81baa90941"
   },
   "outputs": [
    {
     "data": {
      "text/plain": [
       "<range_iterator at 0x1ea54e20630>"
      ]
     },
     "execution_count": 5,
     "metadata": {
      "tags": []
     },
     "output_type": "execute_result"
    }
   ],
   "source": [
    "iter(range(10))"
   ]
  },
  {
   "cell_type": "markdown",
   "metadata": {
    "colab_type": "text",
    "id": "ZnInIs1pGFPZ"
   },
   "source": [
    "**Question 5**\n",
    "\n",
    "Using `enumerate`, display the index and the value of the for loop for the list below. \n",
    "\n",
    "`L = [1,2,3,4,5]`"
   ]
  },
  {
   "cell_type": "code",
   "execution_count": 0,
   "metadata": {
    "colab": {},
    "colab_type": "code",
    "id": "ZwejEXr5GFPa",
    "outputId": "ee599cc1-ba6d-4638-b98a-a588328e399b"
   },
   "outputs": [
    {
     "name": "stdout",
     "output_type": "stream",
     "text": [
      "0 1\n",
      "1 2\n",
      "2 3\n",
      "3 4\n",
      "4 5\n"
     ]
    }
   ],
   "source": [
    "L = [1,2,3,4,5]\n",
    "for index, value in enumerate(L):\n",
    "    print(index, value)"
   ]
  },
  {
   "cell_type": "code",
   "execution_count": 0,
   "metadata": {
    "colab": {},
    "colab_type": "code",
    "id": "OEQJqVhrGFPg",
    "outputId": "776c4e11-f767-4a60-a489-d90986ebc97e"
   },
   "outputs": [
    {
     "name": "stdout",
     "output_type": "stream",
     "text": [
      "0 1\n",
      "1 2\n",
      "2 3\n",
      "3 4\n",
      "4 5\n"
     ]
    }
   ],
   "source": [
    "for i in range(len(L)):\n",
    "    print(i, L[i])"
   ]
  },
  {
   "cell_type": "markdown",
   "metadata": {
    "colab_type": "text",
    "id": "DH4ov3IFGFPk"
   },
   "source": [
    "**Question 6**\n",
    "\n",
    "Suppose you have two lists and you would like to display each value of the two list (side by side). How would you like to do that?\n",
    "\n",
    "The two lists are `L1 = [1,2,3,4,5]` and `L2 = [6,7,8,9,10]`\n",
    "\n",
    "*Hint: You may use `zip` function to use that*"
   ]
  },
  {
   "cell_type": "code",
   "execution_count": 0,
   "metadata": {
    "colab": {},
    "colab_type": "code",
    "id": "jdtvM1oBGFPl",
    "outputId": "4f21c75c-e209-444b-e590-88593d564283"
   },
   "outputs": [
    {
     "name": "stdout",
     "output_type": "stream",
     "text": [
      "1 6\n",
      "2 7\n",
      "3 8\n",
      "4 9\n",
      "5 10\n"
     ]
    }
   ],
   "source": [
    "L1 = [1,2,3,4,5]\n",
    "L2 = [6,7,8,9,10]\n",
    "\n",
    "for val_1, val_2 in zip(L1,L2):\n",
    "    print(val_1,val_2)"
   ]
  },
  {
   "cell_type": "markdown",
   "metadata": {
    "colab_type": "text",
    "id": "8kEJL6duGFPo"
   },
   "source": [
    "**Question 7**\n",
    "\n",
    "You may also use `*` to iterate.\n",
    "For example, `*range(10)*"
   ]
  },
  {
   "cell_type": "code",
   "execution_count": 0,
   "metadata": {
    "colab": {},
    "colab_type": "code",
    "id": "KH-DiP20GFPp",
    "outputId": "14841a01-59af-4b2e-8db3-b7ac440b1b52"
   },
   "outputs": [
    {
     "name": "stdout",
     "output_type": "stream",
     "text": [
      "0 1 2 3 4 5 6 7 8 9\n"
     ]
    }
   ],
   "source": [
    "print(*range(10))"
   ]
  },
  {
   "cell_type": "markdown",
   "metadata": {
    "colab_type": "text",
    "id": "A-O68xfyGFPs"
   },
   "source": [
    "**Question 8**\n",
    "\n",
    "There are also `itertools` function that has other mathematical function\n",
    "for example,\n",
    "\n",
    "```\n",
    "from itertools import permutations\n",
    "p = permutations(range(3))\n",
    "print(*p)\n",
    "```\n",
    "will calculate and display the permutations of 3"
   ]
  },
  {
   "cell_type": "code",
   "execution_count": 0,
   "metadata": {
    "colab": {},
    "colab_type": "code",
    "id": "wcTuTDeIGFPv",
    "outputId": "898bb1c3-2127-4a9e-8835-675f93e8cbcd"
   },
   "outputs": [
    {
     "name": "stdout",
     "output_type": "stream",
     "text": [
      "(0, 1, 2) (0, 2, 1) (1, 0, 2) (1, 2, 0) (2, 0, 1) (2, 1, 0)\n"
     ]
    }
   ],
   "source": [
    "from itertools import permutations\n",
    "p = permutations(range(3))\n",
    "print(*p)"
   ]
  },
  {
   "cell_type": "markdown",
   "metadata": {
    "colab_type": "text",
    "id": "SfBssB4IGFPy"
   },
   "source": [
    "**Question 9**\n",
    "\n",
    "Let's try to `zip` list to a dictionary.\n",
    "\n",
    "Use these lists below.\n",
    "```\n",
    "names = [\"Barney\", \"Robin\", \"Ted\", \"Lily\", \"Marshall\"]\n",
    "age = [16, 20, 24, 18, 30]\n",
    "```"
   ]
  },
  {
   "cell_type": "code",
   "execution_count": 0,
   "metadata": {
    "colab": {},
    "colab_type": "code",
    "id": "spxu79WyGFPz",
    "outputId": "7a7a0510-29b9-40fd-9cd4-e47214cae88e"
   },
   "outputs": [
    {
     "name": "stdout",
     "output_type": "stream",
     "text": [
      "{'Barney': 16, 'Robin': 20, 'Ted': 24, 'Lily': 18, 'Marshall': 30}\n"
     ]
    }
   ],
   "source": [
    "names = [\"Barney\", \"Robin\", \"Ted\", \"Lily\", \"Marshall\"]\n",
    "age = [16, 20, 24, 18, 30]\n",
    "people = dict(zip(names, age))\n",
    "print(people)"
   ]
  },
  {
   "cell_type": "markdown",
   "metadata": {
    "colab_type": "text",
    "id": "95z7961IGFP3"
   },
   "source": [
    "**Question 10**\n",
    "\n",
    "Unzip the `people` tuple into two `names` and `ages`."
   ]
  },
  {
   "cell_type": "code",
   "execution_count": 0,
   "metadata": {
    "colab": {},
    "colab_type": "code",
    "id": "QbX2ypqOGFP4",
    "outputId": "0ca4c241-f070-4a31-cb0a-8caed4313e50"
   },
   "outputs": [
    {
     "name": "stdout",
     "output_type": "stream",
     "text": [
      "('Barney', 'Robin', 'Ted', 'Lily', 'Marshall')\n",
      "(16, 20, 24, 18, 30)\n"
     ]
    }
   ],
   "source": [
    "cast = ((\"Barney\", 16), (\"Robin\", 20), (\"Ted\", 24), (\"Lily\", 18), (\"Marshall\", 30))\n",
    "\n",
    "# define names and heights here\n",
    "names, age = zip(*cast)\n",
    "\n",
    "print(names)\n",
    "print(age)"
   ]
  },
  {
   "cell_type": "code",
   "execution_count": 0,
   "metadata": {
    "colab": {},
    "colab_type": "code",
    "id": "TZjw2Qt4GFP7"
   },
   "outputs": [],
   "source": []
  }
 ],
 "metadata": {
  "colab": {
   "collapsed_sections": [],
   "include_colab_link": true,
   "name": "Iterators_solution.ipynb",
   "provenance": []
  },
  "kernelspec": {
   "display_name": "Python 3",
   "language": "python",
   "name": "python3"
  },
  "language_info": {
   "codemirror_mode": {
    "name": "ipython",
    "version": 3
   },
   "file_extension": ".py",
   "mimetype": "text/x-python",
   "name": "python",
   "nbconvert_exporter": "python",
   "pygments_lexer": "ipython3",
   "version": "3.8.8"
  }
 },
 "nbformat": 4,
 "nbformat_minor": 1
}
