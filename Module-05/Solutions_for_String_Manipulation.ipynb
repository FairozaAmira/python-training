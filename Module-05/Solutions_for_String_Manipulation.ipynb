{
 "cells": [
  {
   "cell_type": "markdown",
   "metadata": {
    "colab_type": "text",
    "id": "view-in-github"
   },
   "source": [
    "<a href=\"https://colab.research.google.com/github/FairozaAmira/AI_Programming_1_e/blob/master/Lesson11/Solutions_for_String_Manipulation.ipynb\" target=\"_parent\"><img src=\"https://colab.research.google.com/assets/colab-badge.svg\" alt=\"Open In Colab\"/></a>"
   ]
  },
  {
   "cell_type": "markdown",
   "metadata": {
    "colab_type": "text",
    "id": "TCs6l6NVAFpA"
   },
   "source": [
    "# Solutions for String Manipulation Exercises"
   ]
  },
  {
   "cell_type": "markdown",
   "metadata": {
    "colab_type": "text",
    "id": "xte8zQjsAFpQ"
   },
   "source": [
    "**Question 1**\n",
    "\n",
    "Try this code, and see whether both of them are the same or not.\n",
    "`a = 'st'`\n",
    "`b = \"st\"`\n",
    "`a == b `\n",
    "\n",
    "Is it True or False?"
   ]
  },
  {
   "cell_type": "code",
   "execution_count": 1,
   "metadata": {
    "colab": {},
    "colab_type": "code",
    "id": "jnR0VwyVAFpU",
    "outputId": "2aa46c7e-fe6c-41ac-fb21-9da347671b43"
   },
   "outputs": [
    {
     "data": {
      "text/plain": [
       "True"
      ]
     },
     "execution_count": 1,
     "metadata": {},
     "output_type": "execute_result"
    }
   ],
   "source": [
    "a = 'st'\n",
    "b = \"st\"\n",
    "a == b"
   ]
  },
  {
   "cell_type": "markdown",
   "metadata": {
    "colab_type": "text",
    "id": "h5yi94E9AFpq"
   },
   "source": [
    "**Question 2**\n",
    "\n",
    "Try to write a string with triple-quote syntax and is it can be displayed when we called out the variable?"
   ]
  },
  {
   "cell_type": "code",
   "execution_count": 2,
   "metadata": {
    "colab": {
     "base_uri": "https://localhost:8080/",
     "height": 67
    },
    "colab_type": "code",
    "id": "nsid0hnbAFpu",
    "outputId": "231dd303-7e8d-4ddf-f0dd-aec744751951"
   },
   "outputs": [
    {
     "name": "stdout",
     "output_type": "stream",
     "text": [
      "a\n",
      "b\n",
      "c\n"
     ]
    }
   ],
   "source": [
    "multi_line = \"\"\"a\n",
    "b\n",
    "c\"\"\"\n",
    "\n",
    "print(multi_line)"
   ]
  },
  {
   "cell_type": "markdown",
   "metadata": {
    "colab_type": "text",
    "id": "S-2AHSwuAFp4"
   },
   "source": [
    "**Question 3**\n",
    "\n",
    "Let's try to adjust the case for this string.\n",
    "\n",
    "`the sTMicroelectronics sdn bHd`\n",
    "\n",
    "1) Turn to all capital letters by using `.upper()`\n",
    "\n",
    "2) Turn to all small letters by using `.lower()`\n",
    "\n",
    "3) Capitalize each words of the string by using `.title()`\n",
    "\n",
    "4) Capitalize the first letter of the string by using `.capitalize()`\n",
    "\n",
    "5) Swap the case by using `.swapcase()`"
   ]
  },
  {
   "cell_type": "code",
   "execution_count": 3,
   "metadata": {
    "colab": {},
    "colab_type": "code",
    "id": "L3KGvgQRAFp7"
   },
   "outputs": [],
   "source": [
    "st = \"the sTMicroelectronics sdn bHd\""
   ]
  },
  {
   "cell_type": "code",
   "execution_count": 4,
   "metadata": {
    "colab": {},
    "colab_type": "code",
    "id": "TP3gW3FAAFqD",
    "outputId": "e001d2e0-b51e-4453-c190-facec4a98bf2"
   },
   "outputs": [
    {
     "data": {
      "text/plain": [
       "'THE STMICROELECTRONICS SDN BHD'"
      ]
     },
     "execution_count": 4,
     "metadata": {},
     "output_type": "execute_result"
    }
   ],
   "source": [
    "st.upper()"
   ]
  },
  {
   "cell_type": "code",
   "execution_count": 5,
   "metadata": {
    "colab": {},
    "colab_type": "code",
    "id": "eBk2jEeqAFqK",
    "outputId": "d51cc733-0700-4b4e-906b-224cc190eec1"
   },
   "outputs": [
    {
     "data": {
      "text/plain": [
       "'the stmicroelectronics sdn bhd'"
      ]
     },
     "execution_count": 5,
     "metadata": {},
     "output_type": "execute_result"
    }
   ],
   "source": [
    "st.lower()"
   ]
  },
  {
   "cell_type": "code",
   "execution_count": 6,
   "metadata": {
    "colab": {},
    "colab_type": "code",
    "id": "vOsp18VSAFqT",
    "outputId": "bee276ef-a87f-47ec-f795-3f5370f94233"
   },
   "outputs": [
    {
     "data": {
      "text/plain": [
       "'The Stmicroelectronics Sdn Bhd'"
      ]
     },
     "execution_count": 6,
     "metadata": {},
     "output_type": "execute_result"
    }
   ],
   "source": [
    "st.title()"
   ]
  },
  {
   "cell_type": "code",
   "execution_count": 7,
   "metadata": {
    "colab": {},
    "colab_type": "code",
    "id": "mRdumZcRAFqc",
    "outputId": "e0a53622-5ae3-462c-bfdf-044b3cabf7a4"
   },
   "outputs": [
    {
     "data": {
      "text/plain": [
       "'The stmicroelectronics sdn bhd'"
      ]
     },
     "execution_count": 7,
     "metadata": {},
     "output_type": "execute_result"
    }
   ],
   "source": [
    "st.capitalize()"
   ]
  },
  {
   "cell_type": "code",
   "execution_count": 8,
   "metadata": {
    "colab": {},
    "colab_type": "code",
    "id": "rfIHmTptAFql",
    "outputId": "0b1fb705-611d-4cd4-ae97-32a61d0328da"
   },
   "outputs": [
    {
     "data": {
      "text/plain": [
       "'THE StmICROELECTRONICS SDN BhD'"
      ]
     },
     "execution_count": 8,
     "metadata": {},
     "output_type": "execute_result"
    }
   ],
   "source": [
    "st.swapcase()"
   ]
  },
  {
   "cell_type": "markdown",
   "metadata": {
    "colab_type": "text",
    "id": "E8UX20Q6AFqs"
   },
   "source": [
    "**Question 4**\n",
    "\n",
    "Use `.strip()` to remove unnecessary whitespace in the strings below. <br/>\n",
    "\n",
    "`          STMicroelectronics         `"
   ]
  },
  {
   "cell_type": "code",
   "execution_count": 9,
   "metadata": {
    "colab": {},
    "colab_type": "code",
    "id": "MatLEvGfAFqu"
   },
   "outputs": [],
   "source": [
    "stm = \"          STMicroelectronics          \""
   ]
  },
  {
   "cell_type": "code",
   "execution_count": 10,
   "metadata": {
    "colab": {},
    "colab_type": "code",
    "id": "I4WPfUpOAFq0",
    "outputId": "20c31f6b-d26d-408b-f32f-6d323601f2b9"
   },
   "outputs": [
    {
     "data": {
      "text/plain": [
       "'STMicroelectronics'"
      ]
     },
     "execution_count": 10,
     "metadata": {},
     "output_type": "execute_result"
    }
   ],
   "source": [
    "stm.strip()"
   ]
  },
  {
   "cell_type": "code",
   "execution_count": 11,
   "metadata": {
    "colab": {},
    "colab_type": "code",
    "id": "OJXdEEibAFq8",
    "outputId": "28e8c8ff-7786-4d2f-fad2-569502032294"
   },
   "outputs": [
    {
     "data": {
      "text/plain": [
       "'          STMicroelectronics'"
      ]
     },
     "execution_count": 11,
     "metadata": {},
     "output_type": "execute_result"
    }
   ],
   "source": [
    "stm.rstrip()"
   ]
  },
  {
   "cell_type": "code",
   "execution_count": 12,
   "metadata": {
    "colab": {},
    "colab_type": "code",
    "id": "IJTqA1c-AFrD",
    "outputId": "96f11408-45e0-41b3-d498-3b4e52b1776f"
   },
   "outputs": [
    {
     "data": {
      "text/plain": [
       "'STMicroelectronics          '"
      ]
     },
     "execution_count": 12,
     "metadata": {},
     "output_type": "execute_result"
    }
   ],
   "source": [
    "stm.lstrip()"
   ]
  },
  {
   "cell_type": "markdown",
   "metadata": {
    "colab_type": "text",
    "id": "_MdX0eMBAFrI"
   },
   "source": [
    "**Question 5**\n",
    "\n",
    "What if we want to take out string '0' of the string below? How we are going to do that?\n",
    "\n",
    "`\"00000456\"`\n",
    "\n",
    "Then, we want to fill the zero back again. How to do that?"
   ]
  },
  {
   "cell_type": "code",
   "execution_count": 13,
   "metadata": {
    "colab": {},
    "colab_type": "code",
    "id": "GYNBJpECAFrJ",
    "outputId": "868b1cea-5bd2-479c-821f-2990806cdc34"
   },
   "outputs": [
    {
     "data": {
      "text/plain": [
       "'456'"
      ]
     },
     "execution_count": 13,
     "metadata": {},
     "output_type": "execute_result"
    }
   ],
   "source": [
    "num = \"00000456\"\n",
    "num.strip('0')"
   ]
  },
  {
   "cell_type": "code",
   "execution_count": 14,
   "metadata": {
    "colab": {},
    "colab_type": "code",
    "id": "rRylIpizAFrR",
    "outputId": "8acc644c-75ac-4b15-ccf6-e88b6d11b701"
   },
   "outputs": [
    {
     "data": {
      "text/plain": [
       "'00000456'"
      ]
     },
     "execution_count": 14,
     "metadata": {},
     "output_type": "execute_result"
    }
   ],
   "source": [
    "num.zfill(5)"
   ]
  },
  {
   "cell_type": "markdown",
   "metadata": {
    "colab_type": "text",
    "id": "T-AyIVRlAFrW"
   },
   "source": [
    "**Question 6**\n",
    "\n",
    "We can also find and replace substrings inside a string.\n",
    "\n",
    "To find the substring, you can use `.find()`, `.rfind()` or  `.index()`, to replace a substring you can use `.replace()`\n",
    "\n",
    "Given a string as below. \n",
    "\n",
    "`\"the stmicroelectronics sdn bhd\"`\n",
    "\n",
    "1. Find the `sdn` substring by using `.find()` and `.index()`\n",
    "\n",
    "2. Find the `the` substring by using `.find()` and `.index()`\n",
    "\n",
    "3. Check whether `stmicroelectronics` is the first substring of the string by using `.startswith()`.\n",
    "\n",
    "4. Check whether `bhd` is the last substring of the string by using `endswith()`\n",
    "\n",
    "5. Replace character `e` with `--` in the string by using `.replace()`"
   ]
  },
  {
   "cell_type": "code",
   "execution_count": 15,
   "metadata": {
    "colab": {},
    "colab_type": "code",
    "id": "bULMYamSAFrX"
   },
   "outputs": [],
   "source": [
    "stms = \"the stmicroelectronics sdn bhd\""
   ]
  },
  {
   "cell_type": "code",
   "execution_count": 16,
   "metadata": {
    "colab": {},
    "colab_type": "code",
    "id": "2h0Gpf1WAFrf",
    "outputId": "e1929d77-43e2-4c8e-ec94-d5e704d5a1f3"
   },
   "outputs": [
    {
     "data": {
      "text/plain": [
       "23"
      ]
     },
     "execution_count": 16,
     "metadata": {},
     "output_type": "execute_result"
    }
   ],
   "source": [
    "stms.find(\"sdn\")"
   ]
  },
  {
   "cell_type": "code",
   "execution_count": 17,
   "metadata": {
    "colab": {},
    "colab_type": "code",
    "id": "BIuHpnYKAFrq",
    "outputId": "ac867731-b74b-4649-9f88-e4f9d139e007"
   },
   "outputs": [
    {
     "data": {
      "text/plain": [
       "23"
      ]
     },
     "execution_count": 17,
     "metadata": {},
     "output_type": "execute_result"
    }
   ],
   "source": [
    "stms.index(\"sdn\")"
   ]
  },
  {
   "cell_type": "code",
   "execution_count": 18,
   "metadata": {
    "colab": {},
    "colab_type": "code",
    "id": "Krldiv0zAFrw",
    "outputId": "89b03843-dda8-4699-99e1-b75bab707293"
   },
   "outputs": [
    {
     "data": {
      "text/plain": [
       "0"
      ]
     },
     "execution_count": 18,
     "metadata": {},
     "output_type": "execute_result"
    }
   ],
   "source": [
    "stms.find(\"the\")"
   ]
  },
  {
   "cell_type": "code",
   "execution_count": 19,
   "metadata": {
    "colab": {},
    "colab_type": "code",
    "id": "dph5frBqAFr-",
    "outputId": "d1144251-0da9-4e5d-92a4-93390422170d"
   },
   "outputs": [
    {
     "data": {
      "text/plain": [
       "0"
      ]
     },
     "execution_count": 19,
     "metadata": {},
     "output_type": "execute_result"
    }
   ],
   "source": [
    "stms.index(\"the\")"
   ]
  },
  {
   "cell_type": "code",
   "execution_count": 20,
   "metadata": {
    "colab": {},
    "colab_type": "code",
    "id": "we3JQEpzAFsJ",
    "outputId": "ab6dfb57-f693-4edf-93ce-8335260728f9"
   },
   "outputs": [
    {
     "data": {
      "text/plain": [
       "False"
      ]
     },
     "execution_count": 20,
     "metadata": {},
     "output_type": "execute_result"
    }
   ],
   "source": [
    "stms.startswith(\"stmicroelectronics\")"
   ]
  },
  {
   "cell_type": "code",
   "execution_count": 21,
   "metadata": {
    "colab": {},
    "colab_type": "code",
    "id": "pMZ7CyWgAFsO",
    "outputId": "33ceebef-4994-46ef-a9d8-5225ae6c30e7"
   },
   "outputs": [
    {
     "data": {
      "text/plain": [
       "True"
      ]
     },
     "execution_count": 21,
     "metadata": {},
     "output_type": "execute_result"
    }
   ],
   "source": [
    "stms.endswith(\"bhd\")"
   ]
  },
  {
   "cell_type": "code",
   "execution_count": 23,
   "metadata": {
    "colab": {},
    "colab_type": "code",
    "id": "-IT6tzy8AFsT",
    "outputId": "96a6600a-6722-4672-dbd7-1797329b1a0f"
   },
   "outputs": [
    {
     "data": {
      "text/plain": [
       "'th-- stmicro--l--ctronics sdn bhd'"
      ]
     },
     "execution_count": 23,
     "metadata": {},
     "output_type": "execute_result"
    }
   ],
   "source": [
    "stms.replace(\"e\", \"--\")"
   ]
  },
  {
   "cell_type": "markdown",
   "metadata": {
    "colab_type": "text",
    "id": "OkzN2yqlAFse"
   },
   "source": [
    "**Question 7**\n",
    "\n",
    "By using the same string as in *Question 6* partition the string into three parts. Use substring `stmicroelectronics` as the cut-off. Use `.partition()` to do this.\n",
    "\n",
    "Next, split the strings individually by using `.split()`"
   ]
  },
  {
   "cell_type": "code",
   "execution_count": 24,
   "metadata": {
    "colab": {},
    "colab_type": "code",
    "id": "DSwOIk89AFsg",
    "outputId": "97f54990-4cec-4257-99f1-0e8ed2193af1"
   },
   "outputs": [
    {
     "data": {
      "text/plain": [
       "('the ', 'stmicroelectronics', ' sdn bhd')"
      ]
     },
     "execution_count": 24,
     "metadata": {},
     "output_type": "execute_result"
    }
   ],
   "source": [
    "stms.partition(\"stmicroelectronics\")"
   ]
  },
  {
   "cell_type": "code",
   "execution_count": 25,
   "metadata": {
    "colab": {},
    "colab_type": "code",
    "id": "xIDxBZ5oAFsq",
    "outputId": "2654dd6d-76f2-4b0e-d39a-caf930f83d65"
   },
   "outputs": [
    {
     "data": {
      "text/plain": [
       "['the', 'stmicroelectronics', 'sdn', 'bhd']"
      ]
     },
     "execution_count": 25,
     "metadata": {},
     "output_type": "execute_result"
    }
   ],
   "source": [
    "stms.split()"
   ]
  },
  {
   "cell_type": "markdown",
   "metadata": {
    "colab_type": "text",
    "id": "Nq0keSySAFsv"
   },
   "source": [
    "**Question 8**\n",
    "\n",
    "Try to join both of the strings below by using `.join()`\n",
    "\n",
    "`string1 = \"--\"`\n",
    "\n",
    "`string2 = [\"a\", \"b\", \"c\"]`"
   ]
  },
  {
   "cell_type": "code",
   "execution_count": 26,
   "metadata": {
    "colab": {},
    "colab_type": "code",
    "id": "kqySenIFAFsw",
    "outputId": "a5dbb8e9-512f-4e2a-fe82-254e8a9d2cdd"
   },
   "outputs": [
    {
     "data": {
      "text/plain": [
       "'a--b--c'"
      ]
     },
     "execution_count": 26,
     "metadata": {},
     "output_type": "execute_result"
    }
   ],
   "source": [
    "string1 = \"--\"\n",
    "\n",
    "string2 = [\"a\", \"b\", \"c\"]\n",
    "\n",
    "string1.join(string2)"
   ]
  },
  {
   "cell_type": "markdown",
   "metadata": {
    "colab_type": "text",
    "id": "eDFS7JU5AFs1"
   },
   "source": [
    "**Question 9**\n",
    "\n",
    "Change an integer to a string.\n",
    "\n",
    "b = 3\n",
    "\n",
    "Then, use `.format()` to write the sentence below.\n",
    "\n",
    "`He has {b} oranges.`"
   ]
  },
  {
   "cell_type": "code",
   "execution_count": 27,
   "metadata": {
    "colab": {},
    "colab_type": "code",
    "id": "s340ylbmAFs4",
    "outputId": "59db1e29-681d-46b4-b077-cdb402e5e985"
   },
   "outputs": [
    {
     "name": "stdout",
     "output_type": "stream",
     "text": [
      "He has 3 oranges.\n"
     ]
    }
   ],
   "source": [
    "b = 3\n",
    "str(b)\n",
    "\n",
    "print(\"He has {} oranges.\".format(str(b)) )"
   ]
  },
  {
   "cell_type": "markdown",
   "metadata": {
    "colab_type": "text",
    "id": "3zPfZeVlAFs_"
   },
   "source": [
    "**Question 10**\n",
    "\n",
    "You can also use indexing to include a variable in a string.\n",
    "Or determine how many decimal places would you want it to display. By using `{0:.3f}` for 3 decimal places.\n",
    "\n",
    "1. Write the following string.\n",
    "`\"\"\"First letter is {0}, second letter is {1}.\"\"\".format('A','B')`\n",
    "then, change index `{0}` to `{first}` and `{1}` to `{second}`\n",
    "\n",
    "2. Write the `pi` value in nearest 2 decimal places.\n",
    "Use `from math import pi` to get the `pi` value"
   ]
  },
  {
   "cell_type": "code",
   "execution_count": 28,
   "metadata": {
    "colab": {
     "base_uri": "https://localhost:8080/",
     "height": 35
    },
    "colab_type": "code",
    "id": "SPeBGAyKAFtB",
    "outputId": "59688f09-7b57-474f-ba1d-af96a8beb835"
   },
   "outputs": [
    {
     "name": "stdout",
     "output_type": "stream",
     "text": [
      "First letter is A, second letter is B.\n"
     ]
    }
   ],
   "source": [
    "print(\"\"\"First letter is {0}, second letter is {1}.\"\"\".format('A','B'))"
   ]
  },
  {
   "cell_type": "code",
   "execution_count": 29,
   "metadata": {
    "colab": {},
    "colab_type": "code",
    "id": "J5ilYuGzAFtM",
    "outputId": "c66fa629-33d1-4fa1-dd04-c6e659df5c8b"
   },
   "outputs": [
    {
     "name": "stdout",
     "output_type": "stream",
     "text": [
      "First letter is A, second letter is B.\n"
     ]
    }
   ],
   "source": [
    "print(\"\"\"First letter is {first}, second letter is {second}.\"\"\".format(first= 'A',second='B'))"
   ]
  },
  {
   "cell_type": "code",
   "execution_count": 30,
   "metadata": {
    "colab": {},
    "colab_type": "code",
    "id": "8e9URMhkAFtT",
    "outputId": "a1389652-3f7e-407a-c1fc-25b198b111f8"
   },
   "outputs": [
    {
     "name": "stdout",
     "output_type": "stream",
     "text": [
      "pi =  3.14\n"
     ]
    }
   ],
   "source": [
    "from math import pi\n",
    "print(\"pi = {0: .2f}\".format(pi))"
   ]
  },
  {
   "cell_type": "code",
   "execution_count": null,
   "metadata": {
    "colab": {},
    "colab_type": "code",
    "id": "7KFuA5T9AFte"
   },
   "outputs": [],
   "source": []
  }
 ],
 "metadata": {
  "colab": {
   "include_colab_link": true,
   "name": "Solutions for String Manipulation.ipynb",
   "provenance": []
  },
  "kernelspec": {
   "display_name": "Python 3",
   "language": "python",
   "name": "python3"
  },
  "language_info": {
   "codemirror_mode": {
    "name": "ipython",
    "version": 3
   },
   "file_extension": ".py",
   "mimetype": "text/x-python",
   "name": "python",
   "nbconvert_exporter": "python",
   "pygments_lexer": "ipython3",
   "version": "3.8.8"
  }
 },
 "nbformat": 4,
 "nbformat_minor": 1
}
