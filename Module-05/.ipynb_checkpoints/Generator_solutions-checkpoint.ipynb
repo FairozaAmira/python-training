{
 "cells": [
  {
   "cell_type": "markdown",
   "metadata": {
    "colab_type": "text",
    "id": "view-in-github"
   },
   "source": [
    "<a href=\"https://colab.research.google.com/github/FairozaAmira/AI_Programming_1_e/blob/master/Lesson10/Generator_solutions.ipynb\" target=\"_parent\"><img src=\"https://colab.research.google.com/assets/colab-badge.svg\" alt=\"Open In Colab\"/></a>"
   ]
  },
  {
   "cell_type": "markdown",
   "metadata": {
    "colab_type": "text",
    "id": "p4dO_MNNCTla"
   },
   "source": [
    "# Solution for Generators Exercises"
   ]
  },
  {
   "cell_type": "markdown",
   "metadata": {
    "colab_type": "text",
    "id": "VHwxVARtCTlh"
   },
   "source": [
    "**Question 1**\n",
    "\n",
    "Write a list (using list comprehension) and a generator expression for multiple of 4 from range 1 to 40.\n",
    "Answers should be \n",
    "\n",
    "`[4, 8, 12, 16, 20, 24, 28, 32, 36, 40]`"
   ]
  },
  {
   "cell_type": "code",
   "execution_count": 0,
   "metadata": {
    "colab": {
     "base_uri": "https://localhost:8080/",
     "height": 33
    },
    "colab_type": "code",
    "id": "1Xw3V-BSCTlj",
    "outputId": "db4577a1-faa8-45b6-f7b9-ede5a9ffde30"
   },
   "outputs": [
    {
     "name": "stdout",
     "output_type": "stream",
     "text": [
      "[4, 8, 12, 16, 20, 24, 28, 32, 36, 40]\n"
     ]
    }
   ],
   "source": [
    "numbers = [n * 4 for n in range(1,11)]\n",
    "print(numbers)"
   ]
  },
  {
   "cell_type": "code",
   "execution_count": 0,
   "metadata": {
    "colab": {
     "base_uri": "https://localhost:8080/",
     "height": 50
    },
    "colab_type": "code",
    "id": "gRoqgJn3CTlt",
    "outputId": "a332a745-8ee7-4686-f507-92405fc31c33"
   },
   "outputs": [
    {
     "name": "stdout",
     "output_type": "stream",
     "text": [
      "<generator object <genexpr> at 0x7f806e0718e0>\n",
      "[4, 8, 12, 16, 20, 24, 28, 32, 36, 40]\n"
     ]
    }
   ],
   "source": [
    "numbers = (n * 4 for n in range(1,11))\n",
    "print(numbers)\n",
    "print (list(numbers))"
   ]
  },
  {
   "cell_type": "markdown",
   "metadata": {
    "colab_type": "text",
    "id": "JaDl5H2oCTl0"
   },
   "source": [
    "**Question 2**\n",
    "\n",
    "A generator compared to the list comprehension, is used at one iteration only and thus can be stopped and started. Write a generator that break a loop after displaying number 1 to 10, then 11 to 20.\n",
    "\n",
    "The results should be,\n",
    "```\n",
    "1 2 3 4 5 6 7 8 9 10\n",
    "stop for a while\n",
    "11 12 13 14 15 16 17 18 19 20\n",
    "```"
   ]
  },
  {
   "cell_type": "code",
   "execution_count": 0,
   "metadata": {
    "colab": {
     "base_uri": "https://localhost:8080/",
     "height": 67
    },
    "colab_type": "code",
    "id": "lYWUJpHGCTl1",
    "outputId": "5eacebfa-64c2-40f1-db20-d054579f002a"
   },
   "outputs": [
    {
     "name": "stdout",
     "output_type": "stream",
     "text": [
      "1 2 3 4 5 6 7 8 9 10 \n",
      "stop for a while\n",
      "11 12 13 14 15 16 17 18 19 20 "
     ]
    }
   ],
   "source": [
    "G = (n for n in range(1,21))\n",
    "for n in G:\n",
    "    print (n, end=' ')\n",
    "    if n >= 10:\n",
    "        break\n",
    "\n",
    "print(\"\\nstop for a while\")\n",
    "\n",
    "for n in G:\n",
    "    print(n, end=' ')"
   ]
  },
  {
   "cell_type": "markdown",
   "metadata": {
    "colab_type": "text",
    "id": "J76OwO8_CTl6"
   },
   "source": [
    "**Question 3**\n",
    "\n",
    "Write a generator statement, then,by using `yield` statement, write a `generator` function that generate the same results as the first generator statement.\n",
    "\n",
    "Results should be as below:\n",
    "\n",
    "[4, 8, 12, 16, 20, 24, 28, 32, 36, 40]\n",
    "\n",
    "[4, 8, 12, 16, 20, 24, 28, 32, 36, 40]\n",
    "\n",
    "Get the same result by using list comprehension and compare."
   ]
  },
  {
   "cell_type": "code",
   "execution_count": 0,
   "metadata": {
    "colab": {
     "base_uri": "https://localhost:8080/",
     "height": 50
    },
    "colab_type": "code",
    "id": "3SZNCFOpCTl7",
    "outputId": "869dfde4-6211-485e-e4ba-9eec40e1290e"
   },
   "outputs": [
    {
     "name": "stdout",
     "output_type": "stream",
     "text": [
      "[4, 8, 12, 16, 20, 24, 28, 32, 36, 40]\n",
      "[4, 8, 12, 16, 20, 24, 28, 32, 36, 40]\n"
     ]
    }
   ],
   "source": [
    "numbers_1 = (n * 4 for n in range(1,11))\n",
    "\n",
    "def gen():\n",
    "    for n in range(1,11):\n",
    "        yield n * 4\n",
    "\n",
    "numbers_2 = gen()\n",
    "\n",
    "a = list(numbers_1)\n",
    "b = list(numbers_2)\n",
    "\n",
    "print(a)\n",
    "print(b)"
   ]
  },
  {
   "cell_type": "code",
   "execution_count": 0,
   "metadata": {
    "colab": {
     "base_uri": "https://localhost:8080/",
     "height": 50
    },
    "colab_type": "code",
    "id": "Sx-_9wEtCTmB",
    "outputId": "da7c7d90-8923-4f0e-e0a9-40a6b6a3274b"
   },
   "outputs": [
    {
     "name": "stdout",
     "output_type": "stream",
     "text": [
      "[4, 8, 12, 16, 20, 24, 28, 32, 36, 40]\n",
      "[4, 8, 12, 16, 20, 24, 28, 32, 36, 40]\n"
     ]
    }
   ],
   "source": [
    "L1 = [n * 4 for n in range(1,11)]\n",
    "\n",
    "L2 = []\n",
    "for n in range(1,11):\n",
    "    L2.append(n * 4)\n",
    "\n",
    "print(L1)\n",
    "print(L2)"
   ]
  },
  {
   "cell_type": "markdown",
   "metadata": {
    "colab_type": "text",
    "id": "YsyjPSy6CTmF"
   },
   "source": [
    "**Question 4**\n",
    "\n",
    "Generate a prime number function by using generator. List until 100.\n",
    "\n",
    "Prime number is a whole number greater than 1 whose only factors are 1 and itself."
   ]
  },
  {
   "cell_type": "code",
   "execution_count": 0,
   "metadata": {
    "colab": {
     "base_uri": "https://localhost:8080/",
     "height": 53
    },
    "colab_type": "code",
    "id": "Poy88eVrCTmG",
    "outputId": "c94b9541-0c66-4563-fc51-f906beb1e6b7"
   },
   "outputs": [
    {
     "name": "stdout",
     "output_type": "stream",
     "text": [
      "[2, 3, 5, 7, 11, 13, 17, 19, 23, 29, 31, 37, 41, 43, 47, 53, 59, 61, 67, 71, 73, 79, 83, 89, 97]\n"
     ]
    }
   ],
   "source": [
    "def gen_primes(N):\n",
    "    primes = set()\n",
    "    for n in range(2, N):\n",
    "        if all(n % p > 0 for p in primes):\n",
    "            primes.add(n)\n",
    "            yield n\n",
    "\n",
    "print(list(gen_primes(100)))"
   ]
  },
  {
   "cell_type": "markdown",
   "metadata": {
    "colab_type": "text",
    "id": "KmOTRe68CTmJ"
   },
   "source": [
    "if by using for loop only,"
   ]
  },
  {
   "cell_type": "code",
   "execution_count": 0,
   "metadata": {
    "colab": {
     "base_uri": "https://localhost:8080/",
     "height": 53
    },
    "colab_type": "code",
    "id": "c1gIZDwDCTmK",
    "outputId": "f07850c2-9ac2-4aa3-c612-c9f25fd31759"
   },
   "outputs": [
    {
     "name": "stdout",
     "output_type": "stream",
     "text": [
      "[2, 3, 5, 7, 11, 13, 17, 19, 23, 29, 31, 37, 41, 43, 47, 53, 59, 61, 67, 71, 73, 79, 83, 89, 97]\n"
     ]
    }
   ],
   "source": [
    "primes = []\n",
    "for possiblePrime in range(2, 101):    \n",
    "    # Assume number is prime until shown it is not. \n",
    "    isPrime = True\n",
    "    for num in range(2, possiblePrime):\n",
    "        if possiblePrime % num == 0:\n",
    "            isPrime = False      \n",
    "    if isPrime:\n",
    "        primes.append(possiblePrime)\n",
    "print(primes)"
   ]
  },
  {
   "cell_type": "code",
   "execution_count": 0,
   "metadata": {
    "colab": {},
    "colab_type": "code",
    "id": "vULCQdQoCTmM"
   },
   "outputs": [],
   "source": []
  }
 ],
 "metadata": {
  "colab": {
   "collapsed_sections": [],
   "include_colab_link": true,
   "name": "Generator_solutions.ipynb",
   "provenance": []
  },
  "kernelspec": {
   "display_name": "Python 3",
   "language": "python",
   "name": "python3"
  },
  "language_info": {
   "codemirror_mode": {
    "name": "ipython",
    "version": 3
   },
   "file_extension": ".py",
   "mimetype": "text/x-python",
   "name": "python",
   "nbconvert_exporter": "python",
   "pygments_lexer": "ipython3",
   "version": "3.8.8"
  }
 },
 "nbformat": 4,
 "nbformat_minor": 1
}
