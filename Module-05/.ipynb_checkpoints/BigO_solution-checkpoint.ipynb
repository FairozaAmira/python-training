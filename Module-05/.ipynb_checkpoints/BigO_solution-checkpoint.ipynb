{
 "cells": [
  {
   "cell_type": "markdown",
   "metadata": {
    "colab_type": "text",
    "id": "view-in-github"
   },
   "source": [
    "<a href=\"https://colab.research.google.com/github/FairozaAmira/AI_Programming_1_e/blob/master/Lesson12/BigO_solution.ipynb\" target=\"_parent\"><img src=\"https://colab.research.google.com/assets/colab-badge.svg\" alt=\"Open In Colab\"/></a>"
   ]
  },
  {
   "cell_type": "markdown",
   "metadata": {
    "colab_type": "text",
    "id": "X-47D4lxgB8f"
   },
   "source": [
    "# Solution for Big O Notation exercises"
   ]
  },
  {
   "cell_type": "markdown",
   "metadata": {
    "colab_type": "text",
    "id": "QkiPy5FdgB8k"
   },
   "source": [
    "**Question 1**\n",
    "\n",
    "Design an algorithm that calculates the factorial of a number , 1) By using for loop, 2) By using if-else statement. Then, calculate the time needed to run the program.\n",
    "\n",
    "for example, \n",
    "$4! = 4 \\times 3 \\times 2 \\times 1 = 24 $\n",
    "\n",
    "Which algorithm is the fastest one? \n",
    "\n",
    "*Source: https://stackabuse.com/big-o-notation-and-algorithm-analysis-with-python-examples/*"
   ]
  },
  {
   "cell_type": "code",
   "execution_count": 8,
   "metadata": {
    "colab": {},
    "colab_type": "code",
    "id": "kZSGLA4sgB8m",
    "outputId": "06d91c03-a5c8-4bdb-cbd4-15d66918f301"
   },
   "outputs": [
    {
     "name": "stdout",
     "output_type": "stream",
     "text": [
      "Overwriting fact1.py\n"
     ]
    }
   ],
   "source": [
    "%%writefile fact1.py\n",
    "\n",
    "#By using for-loop\n",
    "\n",
    "from memory_profiler import profile\n",
    "\n",
    "@profile\n",
    "def fact(n):\n",
    "    product = 1\n",
    "    for i in range(n):\n",
    "        product = product * (i+1)\n",
    "    return product\n",
    "\n",
    "print(fact(4))\n",
    "# print(%timeit fact(4))\n",
    "# print(%timeit fact(50))"
   ]
  },
  {
   "cell_type": "code",
   "execution_count": 11,
   "metadata": {},
   "outputs": [
    {
     "name": "stdout",
     "output_type": "stream",
     "text": [
      "24\n",
      "412 ns ± 6.98 ns per loop (mean ± std. dev. of 7 runs, 1000000 loops each)\n",
      "3.71 µs ± 29.3 ns per loop (mean ± std. dev. of 7 runs, 100000 loops each)\n"
     ]
    }
   ],
   "source": [
    "#By using for-loop\n",
    "\n",
    "def fact(n):\n",
    "    product = 1\n",
    "    for i in range(n):\n",
    "        product = product * (i+1)\n",
    "    return product\n",
    "\n",
    "print(fact(4))\n",
    "%timeit fact(4)\n",
    "%timeit fact(50)"
   ]
  },
  {
   "cell_type": "code",
   "execution_count": 9,
   "metadata": {
    "colab": {},
    "colab_type": "code",
    "id": "cpLQwLJ9gB8w",
    "outputId": "e667709f-8336-4546-e52a-58399a224eee"
   },
   "outputs": [
    {
     "name": "stdout",
     "output_type": "stream",
     "text": [
      "Writing fact2.py\n"
     ]
    }
   ],
   "source": [
    "%%writefile fact2.py\n",
    "\n",
    "from memory_profiler import profile\n",
    "\n",
    "#By using if-else statement\n",
    "@profile\n",
    "def fact2 (n):\n",
    "    if n == 0:\n",
    "        return 1\n",
    "    else:\n",
    "        return n * fact2(n-1)\n",
    "\n",
    "print(fact2(4))\n",
    "# %timeit fact2(4)\n",
    "# %timeit fact2(50)"
   ]
  },
  {
   "cell_type": "code",
   "execution_count": 12,
   "metadata": {},
   "outputs": [
    {
     "name": "stdout",
     "output_type": "stream",
     "text": [
      "24\n",
      "505 ns ± 34.7 ns per loop (mean ± std. dev. of 7 runs, 1000000 loops each)\n",
      "8.21 µs ± 1.38 µs per loop (mean ± std. dev. of 7 runs, 100000 loops each)\n"
     ]
    }
   ],
   "source": [
    "#By using if-else statement\n",
    "\n",
    "def fact2 (n):\n",
    "    if n == 0:\n",
    "        return 1\n",
    "    else:\n",
    "        return n * fact2(n-1)\n",
    "\n",
    "print(fact2(4))\n",
    "%timeit fact2(4)\n",
    "%timeit fact2(50)"
   ]
  },
  {
   "cell_type": "code",
   "execution_count": 0,
   "metadata": {
    "colab": {},
    "colab_type": "code",
    "id": "PKqWH98kgB8z"
   },
   "outputs": [],
   "source": []
  }
 ],
 "metadata": {
  "colab": {
   "collapsed_sections": [],
   "include_colab_link": true,
   "name": "BigO_solution.ipynb",
   "provenance": []
  },
  "kernelspec": {
   "display_name": "Python 3",
   "language": "python",
   "name": "python3"
  },
  "language_info": {
   "codemirror_mode": {
    "name": "ipython",
    "version": 3
   },
   "file_extension": ".py",
   "mimetype": "text/x-python",
   "name": "python",
   "nbconvert_exporter": "python",
   "pygments_lexer": "ipython3",
   "version": "3.8.8"
  }
 },
 "nbformat": 4,
 "nbformat_minor": 1
}
