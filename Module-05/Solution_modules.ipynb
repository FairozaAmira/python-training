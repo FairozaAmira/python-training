{
 "cells": [
  {
   "cell_type": "markdown",
   "metadata": {
    "colab_type": "text",
    "id": "view-in-github"
   },
   "source": [
    "<a href=\"https://colab.research.google.com/github/FairozaAmira/AI_Programming_1_e/blob/master/Lesson11/Solution_modules.ipynb\" target=\"_parent\"><img src=\"https://colab.research.google.com/assets/colab-badge.svg\" alt=\"Open In Colab\"/></a>"
   ]
  },
  {
   "cell_type": "markdown",
   "metadata": {
    "colab_type": "text",
    "id": "MOVt0SZRjj7r"
   },
   "source": [
    "# Solution for Modules \n",
    "\n",
    "1. Try `help(\"modules\")`"
   ]
  },
  {
   "cell_type": "code",
   "execution_count": 1,
   "metadata": {
    "colab": {
     "base_uri": "https://localhost:8080/",
     "height": 1000
    },
    "colab_type": "code",
    "id": "oB7p3Dlbjr-A",
    "outputId": "79068004-4fea-4edc-ae19-b32e1ef66f14"
   },
   "outputs": [
    {
     "name": "stdout",
     "output_type": "stream",
     "text": [
      "\n",
      "Please wait a moment while I gather a list of all available modules...\n",
      "\n"
     ]
    },
    {
     "name": "stderr",
     "output_type": "stream",
     "text": [
      "C:\\Users\\hamzahf\\.conda\\envs\\learn-python\\lib\\site-packages\\IPython\\kernel\\__init__.py:12: ShimWarning: The `IPython.kernel` package has been deprecated since IPython 4.0.You should import from ipykernel or jupyter_client instead.\n",
      "  warn(\"The `IPython.kernel` package has been deprecated since IPython 4.0.\"\n"
     ]
    },
    {
     "name": "stdout",
     "output_type": "stream",
     "text": [
      "IPython             bz2                 mmap                sunau\n",
      "OpenSSL             cProfile            mmapfile            symbol\n",
      "__future__          calendar            mmsystem            sympyprinting\n",
      "_abc                certifi             modulefinder        symtable\n",
      "_ast                cffi                msilib              sys\n",
      "_asyncio            cgi                 msvcrt              sysconfig\n",
      "_bisect             cgitb               multiprocessing     tabnanny\n",
      "_blake2             chardet             nbclient            tarfile\n",
      "_bootlocale         chunk               nbconvert           telnetlib\n",
      "_bz2                cmath               nbformat            tempfile\n",
      "_cffi_backend       cmd                 nest_asyncio        terminado\n",
      "_codecs             code                netbios             test\n",
      "_codecs_cn          codecs              netrc               testpath\n",
      "_codecs_hk          codeop              nntplib             tests\n",
      "_codecs_iso2022     collections         notebook            textwrap\n",
      "_codecs_jp          colorama            nt                  this\n",
      "_codecs_kr          colorsys            ntpath              threading\n",
      "_codecs_tw          commctrl            ntsecuritycon       threadpoolctl\n",
      "_collections        compileall          nturl2path          time\n",
      "_collections_abc    concurrent          numbers             timeit\n",
      "_compat_pickle      configparser        numpy               timer\n",
      "_compression        contextlib          odbc                tkinter\n",
      "_contextvars        contextvars         opcode              token\n",
      "_csv                copy                operator            tokenize\n",
      "_ctypes             copyreg             optparse            tornado\n",
      "_ctypes_test        crypt               os                  trace\n",
      "_datetime           cryptography        packaging           traceback\n",
      "_decimal            csv                 pandas              tracemalloc\n",
      "_distutils_hack     ctypes              pandocfilters       traitlets\n",
      "_dummy_thread       curses              parser              tty\n",
      "_elementtree        cythonmagic         parso               turtle\n",
      "_functools          dataclasses         pathlib             turtledemo\n",
      "_hashlib            datetime            pdb                 types\n",
      "_heapq              dateutil            perfmon             typing\n",
      "_imp                dbi                 pickle              unicodedata\n",
      "_io                 dbm                 pickleshare         unittest\n",
      "_json               dde                 pickletools         urllib\n",
      "_locale             decimal             pip                 urllib3\n",
      "_lsprof             decorator           pipes               uu\n",
      "_lzma               defusedxml          pkg_resources       uuid\n",
      "_markupbase         difflib             pkgutil             venv\n",
      "_md5                dis                 platform            warnings\n",
      "_msi                distutils           plistlib            wave\n",
      "_multibytecodec     doctest             poplib              wcwidth\n",
      "_multiprocessing    dummy_threading     posixpath           weakref\n",
      "_opcode             easy_install        pprint              webbrowser\n",
      "_operator           email               profile             webencodings\n",
      "_osx_support        encodings           prometheus_client   wheel\n",
      "_overlapped         ensurepip           prompt_toolkit      win2kras\n",
      "_pickle             entrypoints         pstats              win32api\n",
      "_py_abc             enum                pty                 win32clipboard\n",
      "_pydecimal          errno               pvectorc            win32com\n",
      "_pyio               faulthandler        py_compile          win32con\n",
      "_pyrsistent_version filecmp             pyclbr              win32console\n",
      "_queue              fileinput           pycparser           win32cred\n",
      "_random             fnmatch             pydoc               win32crypt\n",
      "_sha1               formatter           pydoc_data          win32cryptcon\n",
      "_sha256             fractions           pyexpat             win32event\n",
      "_sha3               ftplib              pygments            win32evtlog\n",
      "_sha512             functools           pyparsing           win32evtlogutil\n",
      "_signal             gc                  pyrsistent          win32file\n",
      "_sitebuiltins       genericpath         pythoncom           win32gui\n",
      "_socket             getopt              pytz                win32gui_struct\n",
      "_sqlite3            getpass             pywin               win32help\n",
      "_sre                gettext             pywin32_bootstrap   win32inet\n",
      "_ssl                glob                pywin32_testutil    win32inetcon\n",
      "_stat               gzip                pywintypes          win32job\n",
      "_statistics         hashlib             queue               win32lz\n",
      "_string             heapq               quopri              win32net\n",
      "_strptime           hmac                random              win32netcon\n",
      "_struct             html                rasutil             win32pdh\n",
      "_symtable           http                re                  win32pdhquery\n",
      "_testbuffer         idlelib             regcheck            win32pdhutil\n",
      "_testcapi           idna                regutil             win32pipe\n",
      "_testconsole        imaplib             reprlib             win32print\n",
      "_testimportmultiple imghdr              requests            win32process\n",
      "_testinternalcapi   imp                 rlcompleter         win32profile\n",
      "_testmultiphase     importlib           rmagic              win32ras\n",
      "_thread             importlib_metadata  runpy               win32rcparser\n",
      "_threading_local    inspect             sched               win32security\n",
      "_tkinter            io                  scipy               win32service\n",
      "_tracemalloc        ipaddress           secrets             win32serviceutil\n",
      "_warnings           ipykernel           select              win32timezone\n",
      "_weakref            ipykernel_launcher  selectors           win32trace\n",
      "_weakrefset         ipython_genutils    send2trash          win32traceutil\n",
      "_win32sysloader     isapi               servicemanager      win32transaction\n",
      "_winapi             itertools           setuptools          win32ts\n",
      "_winxptheme         jedi                shelve              win32ui\n",
      "_xxsubinterpreters  jinja2              shlex               win32uiole\n",
      "abc                 joblib              shutil              win32verstamp\n",
      "adodbapi            json                signal              win32wnet\n",
      "afxres              json5               site                win_inet_pton\n",
      "aifc                jsonschema          six                 wincertstore\n",
      "antigravity         jupyter             sklearn             winerror\n",
      "argon2              jupyter_client      smtpd               winioctlcon\n",
      "argparse            jupyter_core        smtplib             winnt\n",
      "array               jupyterlab          sndhdr              winperf\n",
      "ast                 jupyterlab_pygments socket              winpty\n",
      "async_generator     jupyterlab_server   socketserver        winreg\n",
      "asynchat            keyword             socks               winsound\n",
      "asyncio             lib2to3             sockshandler        winxpgui\n",
      "asyncore            linecache           sqlite3             winxptheme\n",
      "atexit              locale              sre_compile         wsgiref\n",
      "attr                logging             sre_constants       xdrlib\n",
      "audioop             lzma                sre_parse           xml\n",
      "autoreload          mailbox             ssl                 xmlrpc\n",
      "backcall            mailcap             sspi                xxsubtype\n",
      "base64              markupsafe          sspicon             zipapp\n",
      "bdb                 marshal             stat                zipfile\n",
      "binascii            math                statistics          zipimport\n",
      "binhex              mimetypes           storemagic          zipp\n",
      "bisect              mistune             string              zlib\n",
      "bleach              mkl                 stringprep          zmq\n",
      "brotli              mkl_fft             struct              \n",
      "builtins            mkl_random          subprocess          \n",
      "\n",
      "Enter any module name to get more help.  Or, type \"modules spam\" to search\n",
      "for modules whose name or summary contain the string \"spam\".\n",
      "\n"
     ]
    },
    {
     "name": "stderr",
     "output_type": "stream",
     "text": [
      "C:\\Users\\hamzahf\\.conda\\envs\\learn-python\\lib\\pkgutil.py:107: VisibleDeprecationWarning: zmq.eventloop.minitornado is deprecated in pyzmq 14.0 and will be removed.\n",
      "    Install tornado itself to use zmq with the tornado IOLoop.\n",
      "    \n",
      "  yield from walk_packages(path, info.name+'.', onerror)\n"
     ]
    }
   ],
   "source": [
    "help(\"modules\")"
   ]
  },
  {
   "cell_type": "markdown",
   "metadata": {
    "colab_type": "text",
    "id": "s4Hrpafwj4rX"
   },
   "source": [
    "2. Try\n",
    "```\n",
    "import math\n",
    "math.cos(math.pi)\n",
    "```\n",
    "\n"
   ]
  },
  {
   "cell_type": "code",
   "execution_count": 2,
   "metadata": {
    "colab": {
     "base_uri": "https://localhost:8080/",
     "height": 35
    },
    "colab_type": "code",
    "id": "PijVwFdLkBRN",
    "outputId": "6cfd0c90-0376-46e7-c72f-0301e225ca14"
   },
   "outputs": [
    {
     "data": {
      "text/plain": [
       "-1.0"
      ]
     },
     "execution_count": 2,
     "metadata": {},
     "output_type": "execute_result"
    }
   ],
   "source": [
    "import math\n",
    "math.cos(math.pi)"
   ]
  },
  {
   "cell_type": "markdown",
   "metadata": {
    "colab_type": "text",
    "id": "AEa0oJzbkDkJ"
   },
   "source": [
    "3. Importing the modules"
   ]
  },
  {
   "cell_type": "code",
   "execution_count": 3,
   "metadata": {
    "colab": {
     "base_uri": "https://localhost:8080/",
     "height": 35
    },
    "colab_type": "code",
    "id": "eWfH9iBmkG9O",
    "outputId": "1933cc24-508a-4a73-c994-78d76a93d96b"
   },
   "outputs": [
    {
     "data": {
      "text/plain": [
       "-1.0"
      ]
     },
     "execution_count": 3,
     "metadata": {},
     "output_type": "execute_result"
    }
   ],
   "source": [
    "import numpy as np\n",
    "np.cos(np.pi)"
   ]
  },
  {
   "cell_type": "code",
   "execution_count": 4,
   "metadata": {
    "colab": {
     "base_uri": "https://localhost:8080/",
     "height": 35
    },
    "colab_type": "code",
    "id": "ejJiKxoVjfAT",
    "outputId": "1f38bf36-7c45-4bec-bf8d-0accb1244c68"
   },
   "outputs": [
    {
     "data": {
      "text/plain": [
       "-1.0"
      ]
     },
     "execution_count": 4,
     "metadata": {},
     "output_type": "execute_result"
    }
   ],
   "source": [
    "from math import cos, pi\n",
    "cos(pi)"
   ]
  },
  {
   "cell_type": "code",
   "execution_count": 5,
   "metadata": {
    "colab": {
     "base_uri": "https://localhost:8080/",
     "height": 35
    },
    "colab_type": "code",
    "id": "ss9EiWb9kObH",
    "outputId": "22d42a67-062d-4145-bfe5-449ae4e38078"
   },
   "outputs": [
    {
     "data": {
      "text/plain": [
       "1.0"
      ]
     },
     "execution_count": 5,
     "metadata": {},
     "output_type": "execute_result"
    }
   ],
   "source": [
    "from math import *\n",
    "sin(pi)**2 + cos(pi)**2"
   ]
  }
 ],
 "metadata": {
  "colab": {
   "collapsed_sections": [],
   "include_colab_link": true,
   "name": "Solution_modules.ipynb",
   "provenance": []
  },
  "kernelspec": {
   "display_name": "Python 3",
   "language": "python",
   "name": "python3"
  },
  "language_info": {
   "codemirror_mode": {
    "name": "ipython",
    "version": 3
   },
   "file_extension": ".py",
   "mimetype": "text/x-python",
   "name": "python",
   "nbconvert_exporter": "python",
   "pygments_lexer": "ipython3",
   "version": "3.8.8"
  }
 },
 "nbformat": 4,
 "nbformat_minor": 1
}
